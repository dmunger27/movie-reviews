{
 "cells": [
  {
   "cell_type": "code",
   "execution_count": null,
   "metadata": {
    "colab": {
     "base_uri": "https://localhost:8080/",
     "height": 195
    },
    "executionInfo": {
     "elapsed": 2055,
     "status": "ok",
     "timestamp": 1627548046080,
     "user": {
      "displayName": "Coders Arts",
      "photoUrl": "https://lh3.googleusercontent.com/a-/AOh14Gh045xFy05y2ydhIEpNIgs2LNUfWxg7n8AI2Tkamw=s64",
      "userId": "09210968749077988360"
     },
     "user_tz": -330
    },
    "id": "sgZgIz9FSzZc",
    "outputId": "446268c6-2614-4133-d612-f5bf2c1dd853"
   },
   "outputs": [],
   "source": []
  },
  {
   "cell_type": "code",
   "execution_count": 1,
   "metadata": {},
   "outputs": [
    {
     "data": {
      "text/html": [
       "<div>\n",
       "<style scoped>\n",
       "    .dataframe tbody tr th:only-of-type {\n",
       "        vertical-align: middle;\n",
       "    }\n",
       "\n",
       "    .dataframe tbody tr th {\n",
       "        vertical-align: top;\n",
       "    }\n",
       "\n",
       "    .dataframe thead th {\n",
       "        text-align: right;\n",
       "    }\n",
       "</style>\n",
       "<table border=\"1\" class=\"dataframe\">\n",
       "  <thead>\n",
       "    <tr style=\"text-align: right;\">\n",
       "      <th></th>\n",
       "      <th>movieId</th>\n",
       "      <th>title</th>\n",
       "      <th>genres</th>\n",
       "    </tr>\n",
       "  </thead>\n",
       "  <tbody>\n",
       "    <tr>\n",
       "      <th>0</th>\n",
       "      <td>1</td>\n",
       "      <td>Toy Story (1995)</td>\n",
       "      <td>Adventure|Animation|Children|Comedy|Fantasy</td>\n",
       "    </tr>\n",
       "    <tr>\n",
       "      <th>1</th>\n",
       "      <td>2</td>\n",
       "      <td>Jumanji (1995)</td>\n",
       "      <td>Adventure|Children|Fantasy</td>\n",
       "    </tr>\n",
       "    <tr>\n",
       "      <th>2</th>\n",
       "      <td>3</td>\n",
       "      <td>Grumpier Old Men (1995)</td>\n",
       "      <td>Comedy|Romance</td>\n",
       "    </tr>\n",
       "    <tr>\n",
       "      <th>3</th>\n",
       "      <td>4</td>\n",
       "      <td>Waiting to Exhale (1995)</td>\n",
       "      <td>Comedy|Drama|Romance</td>\n",
       "    </tr>\n",
       "    <tr>\n",
       "      <th>4</th>\n",
       "      <td>5</td>\n",
       "      <td>Father of the Bride Part II (1995)</td>\n",
       "      <td>Comedy</td>\n",
       "    </tr>\n",
       "  </tbody>\n",
       "</table>\n",
       "</div>"
      ],
      "text/plain": [
       "   movieId                               title  \\\n",
       "0        1                    Toy Story (1995)   \n",
       "1        2                      Jumanji (1995)   \n",
       "2        3             Grumpier Old Men (1995)   \n",
       "3        4            Waiting to Exhale (1995)   \n",
       "4        5  Father of the Bride Part II (1995)   \n",
       "\n",
       "                                        genres  \n",
       "0  Adventure|Animation|Children|Comedy|Fantasy  \n",
       "1                   Adventure|Children|Fantasy  \n",
       "2                               Comedy|Romance  \n",
       "3                         Comedy|Drama|Romance  \n",
       "4                                       Comedy  "
      ]
     },
     "execution_count": 1,
     "metadata": {},
     "output_type": "execute_result"
    }
   ],
   "source": [
    "import pandas as pd\n",
    "\n",
    "# loading data -> put location of movies.csv here\n",
    "\n",
    "movies = pd.read_csv('/Users/sai/Documents/msads504/group_project_504/ml-25m/movies.csv')\n",
    "movies.head()"
   ]
  },
  {
   "cell_type": "code",
   "execution_count": 2,
   "metadata": {
    "colab": {
     "base_uri": "https://localhost:8080/"
    },
    "executionInfo": {
     "elapsed": 36631,
     "status": "ok",
     "timestamp": 1627547987812,
     "user": {
      "displayName": "Coders Arts",
      "photoUrl": "https://lh3.googleusercontent.com/a-/AOh14Gh045xFy05y2ydhIEpNIgs2LNUfWxg7n8AI2Tkamw=s64",
      "userId": "09210968749077988360"
     },
     "user_tz": -330
    },
    "id": "xWIL8XpgSwP-",
    "outputId": "4b431ffe-234f-471e-8935-e8c2760bc3c0"
   },
   "outputs": [
    {
     "data": {
      "text/html": [
       "<div>\n",
       "<style scoped>\n",
       "    .dataframe tbody tr th:only-of-type {\n",
       "        vertical-align: middle;\n",
       "    }\n",
       "\n",
       "    .dataframe tbody tr th {\n",
       "        vertical-align: top;\n",
       "    }\n",
       "\n",
       "    .dataframe thead th {\n",
       "        text-align: right;\n",
       "    }\n",
       "</style>\n",
       "<table border=\"1\" class=\"dataframe\">\n",
       "  <thead>\n",
       "    <tr style=\"text-align: right;\">\n",
       "      <th></th>\n",
       "      <th>userId</th>\n",
       "      <th>movieId</th>\n",
       "      <th>rating</th>\n",
       "      <th>timestamp</th>\n",
       "    </tr>\n",
       "  </thead>\n",
       "  <tbody>\n",
       "    <tr>\n",
       "      <th>0</th>\n",
       "      <td>1</td>\n",
       "      <td>296</td>\n",
       "      <td>5.0</td>\n",
       "      <td>1147880044</td>\n",
       "    </tr>\n",
       "    <tr>\n",
       "      <th>1</th>\n",
       "      <td>1</td>\n",
       "      <td>306</td>\n",
       "      <td>3.5</td>\n",
       "      <td>1147868817</td>\n",
       "    </tr>\n",
       "    <tr>\n",
       "      <th>2</th>\n",
       "      <td>1</td>\n",
       "      <td>307</td>\n",
       "      <td>5.0</td>\n",
       "      <td>1147868828</td>\n",
       "    </tr>\n",
       "    <tr>\n",
       "      <th>3</th>\n",
       "      <td>1</td>\n",
       "      <td>665</td>\n",
       "      <td>5.0</td>\n",
       "      <td>1147878820</td>\n",
       "    </tr>\n",
       "    <tr>\n",
       "      <th>4</th>\n",
       "      <td>1</td>\n",
       "      <td>899</td>\n",
       "      <td>3.5</td>\n",
       "      <td>1147868510</td>\n",
       "    </tr>\n",
       "  </tbody>\n",
       "</table>\n",
       "</div>"
      ],
      "text/plain": [
       "   userId  movieId  rating   timestamp\n",
       "0       1      296     5.0  1147880044\n",
       "1       1      306     3.5  1147868817\n",
       "2       1      307     5.0  1147868828\n",
       "3       1      665     5.0  1147878820\n",
       "4       1      899     3.5  1147868510"
      ]
     },
     "execution_count": 2,
     "metadata": {},
     "output_type": "execute_result"
    }
   ],
   "source": [
    "# data loading-> put location of ratings.csv \n",
    "rating = pd.read_csv('/Users/sai/Documents/msads504/group_project_504/ml-25m/ratings.csv')\n",
    "rating.head()"
   ]
  },
  {
   "cell_type": "code",
   "execution_count": null,
   "metadata": {
    "colab": {
     "base_uri": "https://localhost:8080/",
     "height": 195
    },
    "executionInfo": {
     "elapsed": 390,
     "status": "ok",
     "timestamp": 1627548080781,
     "user": {
      "displayName": "Coders Arts",
      "photoUrl": "https://lh3.googleusercontent.com/a-/AOh14Gh045xFy05y2ydhIEpNIgs2LNUfWxg7n8AI2Tkamw=s64",
      "userId": "09210968749077988360"
     },
     "user_tz": -330
    },
    "id": "BlrYAaqFTxZd",
    "outputId": "8eb024cd-ee97-4928-a688-9981b646cf3f"
   },
   "outputs": [],
   "source": []
  },
  {
   "cell_type": "code",
   "execution_count": null,
   "metadata": {
    "colab": {
     "base_uri": "https://localhost:8080/",
     "height": 195
    },
    "executionInfo": {
     "elapsed": 6,
     "status": "ok",
     "timestamp": 1627548081345,
     "user": {
      "displayName": "Coders Arts",
      "photoUrl": "https://lh3.googleusercontent.com/a-/AOh14Gh045xFy05y2ydhIEpNIgs2LNUfWxg7n8AI2Tkamw=s64",
      "userId": "09210968749077988360"
     },
     "user_tz": -330
    },
    "id": "38ggdju9UObA",
    "outputId": "cc741f6a-7b46-4820-c6d7-87518afbddb6"
   },
   "outputs": [
    {
     "data": {
      "text/html": [
       "<div>\n",
       "<style scoped>\n",
       "    .dataframe tbody tr th:only-of-type {\n",
       "        vertical-align: middle;\n",
       "    }\n",
       "\n",
       "    .dataframe tbody tr th {\n",
       "        vertical-align: top;\n",
       "    }\n",
       "\n",
       "    .dataframe thead th {\n",
       "        text-align: right;\n",
       "    }\n",
       "</style>\n",
       "<table border=\"1\" class=\"dataframe\">\n",
       "  <thead>\n",
       "    <tr style=\"text-align: right;\">\n",
       "      <th></th>\n",
       "      <th>movieId</th>\n",
       "      <th>title</th>\n",
       "      <th>genres</th>\n",
       "      <th>userId</th>\n",
       "      <th>rating</th>\n",
       "      <th>timestamp</th>\n",
       "    </tr>\n",
       "  </thead>\n",
       "  <tbody>\n",
       "    <tr>\n",
       "      <th>0</th>\n",
       "      <td>1</td>\n",
       "      <td>Toy Story (1995)</td>\n",
       "      <td>Adventure|Animation|Children|Comedy|Fantasy</td>\n",
       "      <td>1</td>\n",
       "      <td>4.0</td>\n",
       "      <td>964982703</td>\n",
       "    </tr>\n",
       "    <tr>\n",
       "      <th>1</th>\n",
       "      <td>1</td>\n",
       "      <td>Toy Story (1995)</td>\n",
       "      <td>Adventure|Animation|Children|Comedy|Fantasy</td>\n",
       "      <td>5</td>\n",
       "      <td>4.0</td>\n",
       "      <td>847434962</td>\n",
       "    </tr>\n",
       "    <tr>\n",
       "      <th>2</th>\n",
       "      <td>1</td>\n",
       "      <td>Toy Story (1995)</td>\n",
       "      <td>Adventure|Animation|Children|Comedy|Fantasy</td>\n",
       "      <td>7</td>\n",
       "      <td>4.5</td>\n",
       "      <td>1106635946</td>\n",
       "    </tr>\n",
       "    <tr>\n",
       "      <th>3</th>\n",
       "      <td>1</td>\n",
       "      <td>Toy Story (1995)</td>\n",
       "      <td>Adventure|Animation|Children|Comedy|Fantasy</td>\n",
       "      <td>15</td>\n",
       "      <td>2.5</td>\n",
       "      <td>1510577970</td>\n",
       "    </tr>\n",
       "    <tr>\n",
       "      <th>4</th>\n",
       "      <td>1</td>\n",
       "      <td>Toy Story (1995)</td>\n",
       "      <td>Adventure|Animation|Children|Comedy|Fantasy</td>\n",
       "      <td>17</td>\n",
       "      <td>4.5</td>\n",
       "      <td>1305696483</td>\n",
       "    </tr>\n",
       "  </tbody>\n",
       "</table>\n",
       "</div>"
      ],
      "text/plain": [
       "   movieId             title  ... rating   timestamp\n",
       "0        1  Toy Story (1995)  ...    4.0   964982703\n",
       "1        1  Toy Story (1995)  ...    4.0   847434962\n",
       "2        1  Toy Story (1995)  ...    4.5  1106635946\n",
       "3        1  Toy Story (1995)  ...    2.5  1510577970\n",
       "4        1  Toy Story (1995)  ...    4.5  1305696483\n",
       "\n",
       "[5 rows x 6 columns]"
      ]
     },
     "execution_count": 7,
     "metadata": {
      "tags": []
     },
     "output_type": "execute_result"
    }
   ],
   "source": [
    "#joining datasets\n",
    "df = pd.merge(movies, rating, on=['movieId'])\n",
    "df.head()"
   ]
  },
  {
   "cell_type": "code",
   "execution_count": 3,
   "metadata": {
    "colab": {
     "base_uri": "https://localhost:8080/",
     "height": 195
    },
    "executionInfo": {
     "elapsed": 465,
     "status": "ok",
     "timestamp": 1627548082725,
     "user": {
      "displayName": "Coders Arts",
      "photoUrl": "https://lh3.googleusercontent.com/a-/AOh14Gh045xFy05y2ydhIEpNIgs2LNUfWxg7n8AI2Tkamw=s64",
      "userId": "09210968749077988360"
     },
     "user_tz": -330
    },
    "id": "9OTPvN8BcouB",
    "outputId": "7c032d53-5ed6-412f-a683-e61d22afda44"
   },
   "outputs": [
    {
     "data": {
      "text/html": [
       "<div>\n",
       "<style scoped>\n",
       "    .dataframe tbody tr th:only-of-type {\n",
       "        vertical-align: middle;\n",
       "    }\n",
       "\n",
       "    .dataframe tbody tr th {\n",
       "        vertical-align: top;\n",
       "    }\n",
       "\n",
       "    .dataframe thead th {\n",
       "        text-align: right;\n",
       "    }\n",
       "</style>\n",
       "<table border=\"1\" class=\"dataframe\">\n",
       "  <thead>\n",
       "    <tr style=\"text-align: right;\">\n",
       "      <th></th>\n",
       "      <th>userId</th>\n",
       "      <th>movieId</th>\n",
       "      <th>tag</th>\n",
       "      <th>timestamp</th>\n",
       "    </tr>\n",
       "  </thead>\n",
       "  <tbody>\n",
       "    <tr>\n",
       "      <th>0</th>\n",
       "      <td>3</td>\n",
       "      <td>260</td>\n",
       "      <td>classic</td>\n",
       "      <td>1439472355</td>\n",
       "    </tr>\n",
       "    <tr>\n",
       "      <th>1</th>\n",
       "      <td>3</td>\n",
       "      <td>260</td>\n",
       "      <td>sci-fi</td>\n",
       "      <td>1439472256</td>\n",
       "    </tr>\n",
       "    <tr>\n",
       "      <th>2</th>\n",
       "      <td>4</td>\n",
       "      <td>1732</td>\n",
       "      <td>dark comedy</td>\n",
       "      <td>1573943598</td>\n",
       "    </tr>\n",
       "    <tr>\n",
       "      <th>3</th>\n",
       "      <td>4</td>\n",
       "      <td>1732</td>\n",
       "      <td>great dialogue</td>\n",
       "      <td>1573943604</td>\n",
       "    </tr>\n",
       "    <tr>\n",
       "      <th>4</th>\n",
       "      <td>4</td>\n",
       "      <td>7569</td>\n",
       "      <td>so bad it's good</td>\n",
       "      <td>1573943455</td>\n",
       "    </tr>\n",
       "  </tbody>\n",
       "</table>\n",
       "</div>"
      ],
      "text/plain": [
       "   userId  movieId               tag   timestamp\n",
       "0       3      260           classic  1439472355\n",
       "1       3      260            sci-fi  1439472256\n",
       "2       4     1732       dark comedy  1573943598\n",
       "3       4     1732    great dialogue  1573943604\n",
       "4       4     7569  so bad it's good  1573943455"
      ]
     },
     "execution_count": 3,
     "metadata": {},
     "output_type": "execute_result"
    }
   ],
   "source": [
    "#loading tags \n",
    "tags = pd.read_csv('/Users/sai/Documents/msads504/group_project_504/ml-25m/tags.csv')\n",
    "tags.head()"
   ]
  },
  {
   "cell_type": "code",
   "execution_count": null,
   "metadata": {
    "colab": {
     "base_uri": "https://localhost:8080/",
     "height": 383
    },
    "executionInfo": {
     "elapsed": 17,
     "status": "ok",
     "timestamp": 1627548084422,
     "user": {
      "displayName": "Coders Arts",
      "photoUrl": "https://lh3.googleusercontent.com/a-/AOh14Gh045xFy05y2ydhIEpNIgs2LNUfWxg7n8AI2Tkamw=s64",
      "userId": "09210968749077988360"
     },
     "user_tz": -330
    },
    "id": "SZrvtNT2cbSX",
    "outputId": "456b05e0-e897-4217-a5ce-7a2346b8f041"
   },
   "outputs": [
    {
     "data": {
      "text/html": [
       "<div>\n",
       "<style scoped>\n",
       "    .dataframe tbody tr th:only-of-type {\n",
       "        vertical-align: middle;\n",
       "    }\n",
       "\n",
       "    .dataframe tbody tr th {\n",
       "        vertical-align: top;\n",
       "    }\n",
       "\n",
       "    .dataframe thead th {\n",
       "        text-align: right;\n",
       "    }\n",
       "</style>\n",
       "<table border=\"1\" class=\"dataframe\">\n",
       "  <thead>\n",
       "    <tr style=\"text-align: right;\">\n",
       "      <th></th>\n",
       "      <th>movieId</th>\n",
       "      <th>title</th>\n",
       "      <th>genres</th>\n",
       "      <th>userId_x</th>\n",
       "      <th>rating</th>\n",
       "      <th>timestamp_x</th>\n",
       "      <th>userId_y</th>\n",
       "      <th>tag</th>\n",
       "      <th>timestamp_y</th>\n",
       "    </tr>\n",
       "  </thead>\n",
       "  <tbody>\n",
       "    <tr>\n",
       "      <th>0</th>\n",
       "      <td>1</td>\n",
       "      <td>Toy Story (1995)</td>\n",
       "      <td>Adventure|Animation|Children|Comedy|Fantasy</td>\n",
       "      <td>1</td>\n",
       "      <td>4.0</td>\n",
       "      <td>964982703</td>\n",
       "      <td>336</td>\n",
       "      <td>pixar</td>\n",
       "      <td>1139045764</td>\n",
       "    </tr>\n",
       "    <tr>\n",
       "      <th>1</th>\n",
       "      <td>1</td>\n",
       "      <td>Toy Story (1995)</td>\n",
       "      <td>Adventure|Animation|Children|Comedy|Fantasy</td>\n",
       "      <td>1</td>\n",
       "      <td>4.0</td>\n",
       "      <td>964982703</td>\n",
       "      <td>474</td>\n",
       "      <td>pixar</td>\n",
       "      <td>1137206825</td>\n",
       "    </tr>\n",
       "    <tr>\n",
       "      <th>2</th>\n",
       "      <td>1</td>\n",
       "      <td>Toy Story (1995)</td>\n",
       "      <td>Adventure|Animation|Children|Comedy|Fantasy</td>\n",
       "      <td>1</td>\n",
       "      <td>4.0</td>\n",
       "      <td>964982703</td>\n",
       "      <td>567</td>\n",
       "      <td>fun</td>\n",
       "      <td>1525286013</td>\n",
       "    </tr>\n",
       "    <tr>\n",
       "      <th>3</th>\n",
       "      <td>1</td>\n",
       "      <td>Toy Story (1995)</td>\n",
       "      <td>Adventure|Animation|Children|Comedy|Fantasy</td>\n",
       "      <td>5</td>\n",
       "      <td>4.0</td>\n",
       "      <td>847434962</td>\n",
       "      <td>336</td>\n",
       "      <td>pixar</td>\n",
       "      <td>1139045764</td>\n",
       "    </tr>\n",
       "    <tr>\n",
       "      <th>4</th>\n",
       "      <td>1</td>\n",
       "      <td>Toy Story (1995)</td>\n",
       "      <td>Adventure|Animation|Children|Comedy|Fantasy</td>\n",
       "      <td>5</td>\n",
       "      <td>4.0</td>\n",
       "      <td>847434962</td>\n",
       "      <td>474</td>\n",
       "      <td>pixar</td>\n",
       "      <td>1137206825</td>\n",
       "    </tr>\n",
       "  </tbody>\n",
       "</table>\n",
       "</div>"
      ],
      "text/plain": [
       "   movieId             title  ...    tag  timestamp_y\n",
       "0        1  Toy Story (1995)  ...  pixar   1139045764\n",
       "1        1  Toy Story (1995)  ...  pixar   1137206825\n",
       "2        1  Toy Story (1995)  ...    fun   1525286013\n",
       "3        1  Toy Story (1995)  ...  pixar   1139045764\n",
       "4        1  Toy Story (1995)  ...  pixar   1137206825\n",
       "\n",
       "[5 rows x 9 columns]"
      ]
     },
     "execution_count": 9,
     "metadata": {
      "tags": []
     },
     "output_type": "execute_result"
    }
   ],
   "source": [
    "#joining into one data frame\n",
    "df = pd.merge(df, tags, on=['movieId'])\n",
    "df.head()"
   ]
  },
  {
   "cell_type": "code",
   "execution_count": null,
   "metadata": {
    "id": "Z7wSndhQbRXI"
   },
   "outputs": [],
   "source": [
    "#removeing nan's in case any\n",
    "df=df.dropna()"
   ]
  },
  {
   "cell_type": "code",
   "execution_count": null,
   "metadata": {
    "colab": {
     "base_uri": "https://localhost:8080/"
    },
    "executionInfo": {
     "elapsed": 391,
     "status": "ok",
     "timestamp": 1627548090661,
     "user": {
      "displayName": "Coders Arts",
      "photoUrl": "https://lh3.googleusercontent.com/a-/AOh14Gh045xFy05y2ydhIEpNIgs2LNUfWxg7n8AI2Tkamw=s64",
      "userId": "09210968749077988360"
     },
     "user_tz": -330
    },
    "id": "n579Jr3_cf2d",
    "outputId": "c45e9760-e93d-488c-81b5-895e37c45ee8"
   },
   "outputs": [
    {
     "data": {
      "text/plain": [
       "movieId        0\n",
       "title          0\n",
       "genres         0\n",
       "userId_x       0\n",
       "rating         0\n",
       "timestamp_x    0\n",
       "userId_y       0\n",
       "tag            0\n",
       "timestamp_y    0\n",
       "dtype: int64"
      ]
     },
     "execution_count": 11,
     "metadata": {
      "tags": []
     },
     "output_type": "execute_result"
    }
   ],
   "source": [
    "#pre- processing \n",
    "df.isna().sum()"
   ]
  },
  {
   "cell_type": "code",
   "execution_count": null,
   "metadata": {
    "id": "QgUdBsWjViLf"
   },
   "outputs": [],
   "source": [
    "# extracting features\n",
    "from sklearn.feature_extraction.text import CountVectorizer\n",
    "v = CountVectorizer()\n",
    "x = v.fit_transform(df['genres']).toarray()"
   ]
  },
  {
   "cell_type": "code",
   "execution_count": null,
   "metadata": {
    "colab": {
     "base_uri": "https://localhost:8080/"
    },
    "executionInfo": {
     "elapsed": 5,
     "status": "ok",
     "timestamp": 1627548105168,
     "user": {
      "displayName": "Coders Arts",
      "photoUrl": "https://lh3.googleusercontent.com/a-/AOh14Gh045xFy05y2ydhIEpNIgs2LNUfWxg7n8AI2Tkamw=s64",
      "userId": "09210968749077988360"
     },
     "user_tz": -330
    },
    "id": "r70KEAvnWKbV",
    "outputId": "13b2ec80-3859-466c-eb12-a5262d78bf92"
   },
   "outputs": [
    {
     "data": {
      "text/plain": [
       "(233213, 26)"
      ]
     },
     "execution_count": 14,
     "metadata": {
      "tags": []
     },
     "output_type": "execute_result"
    }
   ],
   "source": [
    "features = pd.DataFrame(x)\n",
    "features['timex'] = df['timestamp_x']\n",
    "features['timey'] = df['timestamp_y']\n",
    "features.shape"
   ]
  },
  {
   "cell_type": "code",
   "execution_count": null,
   "metadata": {
    "id": "MATac_gTcVrr"
   },
   "outputs": [],
   "source": [
    "#encoding tags feature\n",
    "from sklearn import preprocessing\n",
    "le = preprocessing.LabelEncoder()\n",
    "features['tags'] = le.fit_transform(df['tag'])"
   ]
  },
  {
   "cell_type": "code",
   "execution_count": null,
   "metadata": {
    "colab": {
     "base_uri": "https://localhost:8080/"
    },
    "executionInfo": {
     "elapsed": 9,
     "status": "ok",
     "timestamp": 1627548111891,
     "user": {
      "displayName": "Coders Arts",
      "photoUrl": "https://lh3.googleusercontent.com/a-/AOh14Gh045xFy05y2ydhIEpNIgs2LNUfWxg7n8AI2Tkamw=s64",
      "userId": "09210968749077988360"
     },
     "user_tz": -330
    },
    "id": "7wnblHr6WnLa",
    "outputId": "8ea6699b-3691-4b99-e32c-3c3344574e7c"
   },
   "outputs": [
    {
     "data": {
      "text/plain": [
       "(233213, 27)"
      ]
     },
     "execution_count": 16,
     "metadata": {
      "tags": []
     },
     "output_type": "execute_result"
    }
   ],
   "source": [
    "features.shape"
   ]
  },
  {
   "cell_type": "code",
   "execution_count": null,
   "metadata": {
    "colab": {
     "base_uri": "https://localhost:8080/"
    },
    "executionInfo": {
     "elapsed": 2631,
     "status": "ok",
     "timestamp": 1627464875993,
     "user": {
      "displayName": "Coders Arts",
      "photoUrl": "https://lh3.googleusercontent.com/a-/AOh14Gh045xFy05y2ydhIEpNIgs2LNUfWxg7n8AI2Tkamw=s64",
      "userId": "09210968749077988360"
     },
     "user_tz": -330
    },
    "id": "HeQkK8T5Wqpj",
    "outputId": "5add4f1f-7051-4234-ef09-09ddc09be5a0"
   },
   "outputs": [
    {
     "name": "stdout",
     "output_type": "stream",
     "text": [
      "  imdb_title_id  ... reviews_from_critics\n",
      "0     tt0000009  ...                  2.0\n",
      "1     tt0000574  ...                  7.0\n",
      "\n",
      "[2 rows x 22 columns]\n",
      "['Miss Jerry' 'The Story of the Kelly Gang' 'Den sorte drøm' ...\n",
      " 'Padmavyuhathile Abhimanyu' 'Sokagin Çocuklari'\n",
      " 'La vida sense la Sara Amat']\n",
      "no comman titles\n"
     ]
    },
    {
     "name": "stderr",
     "output_type": "stream",
     "text": [
      "/usr/local/lib/python3.7/dist-packages/IPython/core/interactiveshell.py:2718: DtypeWarning: Columns (3) have mixed types.Specify dtype option on import or set low_memory=False.\n",
      "  interactivity=interactivity, compiler=compiler, result=result)\n"
     ]
    }
   ],
   "source": [
    "# loading imdb and checking if title match\n",
    "imdb = pd.read_csv('/Users/sai/Documents/msads504/group_project_504/IMDb movies.csv')\n",
    "print(imdb.head(2))\n",
    "print(imdb['title'].unique())\n",
    "for i in imdb['title']:\n",
    "  if i in df['title']:\n",
    "    print('yes')\n",
    "  else:\n",
    "    print('no comman titles')\n",
    "    break;"
   ]
  },
  {
   "cell_type": "code",
   "execution_count": null,
   "metadata": {
    "colab": {
     "base_uri": "https://localhost:8080/"
    },
    "executionInfo": {
     "elapsed": 408,
     "status": "ok",
     "timestamp": 1627548117342,
     "user": {
      "displayName": "Coders Arts",
      "photoUrl": "https://lh3.googleusercontent.com/a-/AOh14Gh045xFy05y2ydhIEpNIgs2LNUfWxg7n8AI2Tkamw=s64",
      "userId": "09210968749077988360"
     },
     "user_tz": -330
    },
    "id": "WwF-T_zBXxMz",
    "outputId": "a74b29d7-1830-4cf6-e788-41a4552c7059"
   },
   "outputs": [
    {
     "name": "stdout",
     "output_type": "stream",
     "text": [
      "<class 'pandas.core.frame.DataFrame'>\n",
      "Int64Index: 233213 entries, 0 to 233212\n",
      "Data columns (total 9 columns):\n",
      " #   Column       Non-Null Count   Dtype  \n",
      "---  ------       --------------   -----  \n",
      " 0   movieId      233213 non-null  int64  \n",
      " 1   title        233213 non-null  object \n",
      " 2   genres       233213 non-null  object \n",
      " 3   userId_x     233213 non-null  int64  \n",
      " 4   rating       233213 non-null  float64\n",
      " 5   timestamp_x  233213 non-null  int64  \n",
      " 6   userId_y     233213 non-null  int64  \n",
      " 7   tag          233213 non-null  object \n",
      " 8   timestamp_y  233213 non-null  int64  \n",
      "dtypes: float64(1), int64(5), object(3)\n",
      "memory usage: 17.8+ MB\n"
     ]
    }
   ],
   "source": [
    "# exploring data types \n",
    "df.info()"
   ]
  },
  {
   "cell_type": "code",
   "execution_count": null,
   "metadata": {
    "id": "yCUt1ucrZ1kV"
   },
   "outputs": [],
   "source": [
    "y = df['rating']"
   ]
  },
  {
   "cell_type": "code",
   "execution_count": null,
   "metadata": {
    "colab": {
     "base_uri": "https://localhost:8080/",
     "height": 297
    },
    "executionInfo": {
     "elapsed": 715,
     "status": "ok",
     "timestamp": 1627548147739,
     "user": {
      "displayName": "Coders Arts",
      "photoUrl": "https://lh3.googleusercontent.com/a-/AOh14Gh045xFy05y2ydhIEpNIgs2LNUfWxg7n8AI2Tkamw=s64",
      "userId": "09210968749077988360"
     },
     "user_tz": -330
    },
    "id": "hSqXtmjcbXln",
    "outputId": "33f25fe9-8249-4f36-96d4-b189892ae138"
   },
   "outputs": [
    {
     "data": {
      "text/plain": [
       "<matplotlib.axes._subplots.AxesSubplot at 0x7f2644c11510>"
      ]
     },
     "execution_count": 20,
     "metadata": {
      "tags": []
     },
     "output_type": "execute_result"
    },
    {
     "data": {
      "image/png": "[encoded data removed]",
      "text/plain": [
       "<Figure size 432x288 with 1 Axes>"
      ]
     },
     "metadata": {
      "needs_background": "light",
      "tags": []
     },
     "output_type": "display_data"
    }
   ],
   "source": [
    "import seaborn as sns\n",
    "sns.histplot(y)"
   ]
  },
  {
   "cell_type": "code",
   "execution_count": null,
   "metadata": {
    "colab": {
     "base_uri": "https://localhost:8080/"
    },
    "executionInfo": {
     "elapsed": 378,
     "status": "ok",
     "timestamp": 1627548193391,
     "user": {
      "displayName": "Coders Arts",
      "photoUrl": "https://lh3.googleusercontent.com/a-/AOh14Gh045xFy05y2ydhIEpNIgs2LNUfWxg7n8AI2Tkamw=s64",
      "userId": "09210968749077988360"
     },
     "user_tz": -330
    },
    "id": "bEw-46bnaAsG",
    "outputId": "51c4b128-1962-44ed-8ced-5e5600e5fef4"
   },
   "outputs": [
    {
     "name": "stdout",
     "output_type": "stream",
     "text": [
      "mean square error for linear regression : \n"
     ]
    },
    {
     "data": {
      "text/plain": [
       "0.9031396264744607"
      ]
     },
     "execution_count": 23,
     "metadata": {
      "tags": []
     },
     "output_type": "execute_result"
    }
   ],
   "source": [
    "#fitting the model-1 and evaluation using mse\n",
    "\n",
    "from sklearn.linear_model import LinearRegression\n",
    "from sklearn.model_selection import train_test_split as t\n",
    "from sklearn.metrics import mean_squared_error \n",
    "\n",
    "xtr,xts,ytr,yts = t(x,y, test_size = 0.3)\n",
    "lm = LinearRegression()\n",
    "lm.fit(xtr,ytr)\n",
    "p = lm.predict(xts)\n",
    "print('mean square error for linear regression : ')\n",
    "mean_squared_error(yts,p)"
   ]
  },
  {
   "cell_type": "code",
   "execution_count": null,
   "metadata": {
    "colab": {
     "base_uri": "https://localhost:8080/"
    },
    "executionInfo": {
     "elapsed": 401,
     "status": "ok",
     "timestamp": 1627548206419,
     "user": {
      "displayName": "Coders Arts",
      "photoUrl": "https://lh3.googleusercontent.com/a-/AOh14Gh045xFy05y2ydhIEpNIgs2LNUfWxg7n8AI2Tkamw=s64",
      "userId": "09210968749077988360"
     },
     "user_tz": -330
    },
    "id": "Mqw7vb9Ga7nS",
    "outputId": "89bc76cc-453a-434e-d1e1-93f26738c09a"
   },
   "outputs": [
    {
     "name": "stdout",
     "output_type": "stream",
     "text": [
      "mean square error for DecisionTreeRegressor : \n"
     ]
    },
    {
     "data": {
      "text/plain": [
       "0.8639291415300678"
      ]
     },
     "execution_count": 24,
     "metadata": {
      "tags": []
     },
     "output_type": "execute_result"
    }
   ],
   "source": [
    "#fitting the model-2 and evaluation using mse\n",
    "from sklearn.tree import DecisionTreeRegressor\n",
    "\n",
    "regressor = DecisionTreeRegressor(random_state=0)\n",
    "regressor.fit(xtr,ytr)\n",
    "p = regressor.predict(xts)\n",
    "print('mean square error for DecisionTreeRegressor : ')\n",
    "mean_squared_error(yts,p)"
   ]
  },
  {
   "cell_type": "code",
   "execution_count": null,
   "metadata": {
    "id": "jgJTa2ApgxSV"
   },
   "outputs": [],
   "source": []
  }
 ],
 "metadata": {
  "colab": {
   "collapsed_sections": [],
   "name": "Copy of solution.ipynb",
   "provenance": [
    {
     "file_id": "1Tg0sFlRiy0cY2owUau-POO27McgZryRq",
     "timestamp": 1627575263711
    }
   ]
  },
  "kernelspec": {
   "display_name": "Python 3",
   "language": "python",
   "name": "python3"
  },
  "language_info": {
   "codemirror_mode": {
    "name": "ipython",
    "version": 3
   },
   "file_extension": ".py",
   "mimetype": "text/x-python",
   "name": "python",
   "nbconvert_exporter": "python",
   "pygments_lexer": "ipython3",
   "version": "3.8.5"
  }
 },
 "nbformat": 4,
 "nbformat_minor": 1
}
