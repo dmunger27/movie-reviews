{
 "cells": [
  {
   "cell_type": "markdown",
   "metadata": {},
   "source": [
    "# Appendix\n",
    "\n",
    "### Movie Rating Prediction Project Code"
   ]
  },
  {
   "cell_type": "code",
   "execution_count": 2,
   "metadata": {},
   "outputs": [
    {
     "data": {
      "text/html": [
       "<div>\n",
       "<style scoped>\n",
       "    .dataframe tbody tr th:only-of-type {\n",
       "        vertical-align: middle;\n",
       "    }\n",
       "\n",
       "    .dataframe tbody tr th {\n",
       "        vertical-align: top;\n",
       "    }\n",
       "\n",
       "    .dataframe thead th {\n",
       "        text-align: right;\n",
       "    }\n",
       "</style>\n",
       "<table border=\"1\" class=\"dataframe\">\n",
       "  <thead>\n",
       "    <tr style=\"text-align: right;\">\n",
       "      <th></th>\n",
       "      <th>movieId</th>\n",
       "      <th>title</th>\n",
       "      <th>genres</th>\n",
       "      <th>userId_x</th>\n",
       "      <th>rating</th>\n",
       "      <th>timestamp_x</th>\n",
       "      <th>userId_y</th>\n",
       "      <th>tag</th>\n",
       "      <th>timestamp_y</th>\n",
       "    </tr>\n",
       "  </thead>\n",
       "  <tbody>\n",
       "    <tr>\n",
       "      <th>0</th>\n",
       "      <td>1</td>\n",
       "      <td>Toy Story (1995)</td>\n",
       "      <td>Adventure|Animation|Children|Comedy|Fantasy</td>\n",
       "      <td>1</td>\n",
       "      <td>4.0</td>\n",
       "      <td>964982703</td>\n",
       "      <td>336</td>\n",
       "      <td>pixar</td>\n",
       "      <td>1139045764</td>\n",
       "    </tr>\n",
       "    <tr>\n",
       "      <th>1</th>\n",
       "      <td>1</td>\n",
       "      <td>Toy Story (1995)</td>\n",
       "      <td>Adventure|Animation|Children|Comedy|Fantasy</td>\n",
       "      <td>1</td>\n",
       "      <td>4.0</td>\n",
       "      <td>964982703</td>\n",
       "      <td>474</td>\n",
       "      <td>pixar</td>\n",
       "      <td>1137206825</td>\n",
       "    </tr>\n",
       "    <tr>\n",
       "      <th>2</th>\n",
       "      <td>1</td>\n",
       "      <td>Toy Story (1995)</td>\n",
       "      <td>Adventure|Animation|Children|Comedy|Fantasy</td>\n",
       "      <td>1</td>\n",
       "      <td>4.0</td>\n",
       "      <td>964982703</td>\n",
       "      <td>567</td>\n",
       "      <td>fun</td>\n",
       "      <td>1525286013</td>\n",
       "    </tr>\n",
       "    <tr>\n",
       "      <th>3</th>\n",
       "      <td>1</td>\n",
       "      <td>Toy Story (1995)</td>\n",
       "      <td>Adventure|Animation|Children|Comedy|Fantasy</td>\n",
       "      <td>5</td>\n",
       "      <td>4.0</td>\n",
       "      <td>847434962</td>\n",
       "      <td>336</td>\n",
       "      <td>pixar</td>\n",
       "      <td>1139045764</td>\n",
       "    </tr>\n",
       "    <tr>\n",
       "      <th>4</th>\n",
       "      <td>1</td>\n",
       "      <td>Toy Story (1995)</td>\n",
       "      <td>Adventure|Animation|Children|Comedy|Fantasy</td>\n",
       "      <td>5</td>\n",
       "      <td>4.0</td>\n",
       "      <td>847434962</td>\n",
       "      <td>474</td>\n",
       "      <td>pixar</td>\n",
       "      <td>1137206825</td>\n",
       "    </tr>\n",
       "  </tbody>\n",
       "</table>\n",
       "</div>"
      ],
      "text/plain": [
       "   movieId             title                                       genres  \\\n",
       "0        1  Toy Story (1995)  Adventure|Animation|Children|Comedy|Fantasy   \n",
       "1        1  Toy Story (1995)  Adventure|Animation|Children|Comedy|Fantasy   \n",
       "2        1  Toy Story (1995)  Adventure|Animation|Children|Comedy|Fantasy   \n",
       "3        1  Toy Story (1995)  Adventure|Animation|Children|Comedy|Fantasy   \n",
       "4        1  Toy Story (1995)  Adventure|Animation|Children|Comedy|Fantasy   \n",
       "\n",
       "   userId_x  rating  timestamp_x  userId_y    tag  timestamp_y  \n",
       "0         1     4.0    964982703       336  pixar   1139045764  \n",
       "1         1     4.0    964982703       474  pixar   1137206825  \n",
       "2         1     4.0    964982703       567    fun   1525286013  \n",
       "3         5     4.0    847434962       336  pixar   1139045764  \n",
       "4         5     4.0    847434962       474  pixar   1137206825  "
      ]
     },
     "execution_count": 2,
     "metadata": {},
     "output_type": "execute_result"
    }
   ],
   "source": [
    "import pandas as pd\n",
    "%matplotlib inline\n",
    "import warnings\n",
    "warnings.filterwarnings(\"ignore\")\n",
    "\n",
    "# Load movies data\n",
    "movies = pd.read_csv('movies.csv')\n",
    "# Load ratings data\n",
    "rating = pd.read_csv('ratings.csv')\n",
    "#Load tags data\n",
    "tags = pd.read_csv('tags.csv')\n",
    "#Join together movies and ratings datasets\n",
    "df = pd.merge(movies, rating, on=['movieId'])\n",
    "#Join together combined movies and ratings with tags\n",
    "df = pd.merge(df, tags, on=['movieId'])\n",
    "df.head()"
   ]
  },
  {
   "cell_type": "code",
   "execution_count": 3,
   "metadata": {
    "id": "Z7wSndhQbRXI"
   },
   "outputs": [
    {
     "data": {
      "text/plain": [
       "movieId        0\n",
       "title          0\n",
       "genres         0\n",
       "userId_x       0\n",
       "rating         0\n",
       "timestamp_x    0\n",
       "userId_y       0\n",
       "tag            0\n",
       "timestamp_y    0\n",
       "dtype: int64"
      ]
     },
     "execution_count": 3,
     "metadata": {},
     "output_type": "execute_result"
    }
   ],
   "source": [
    "#Check for any missing values with any of the variables\n",
    "df.isna().sum()"
   ]
  },
  {
   "cell_type": "code",
   "execution_count": 4,
   "metadata": {
    "id": "QgUdBsWjViLf"
   },
   "outputs": [
    {
     "data": {
      "text/html": [
       "<div>\n",
       "<style scoped>\n",
       "    .dataframe tbody tr th:only-of-type {\n",
       "        vertical-align: middle;\n",
       "    }\n",
       "\n",
       "    .dataframe tbody tr th {\n",
       "        vertical-align: top;\n",
       "    }\n",
       "\n",
       "    .dataframe thead th {\n",
       "        text-align: right;\n",
       "    }\n",
       "</style>\n",
       "<table border=\"1\" class=\"dataframe\">\n",
       "  <thead>\n",
       "    <tr style=\"text-align: right;\">\n",
       "      <th></th>\n",
       "      <th>action</th>\n",
       "      <th>adventure</th>\n",
       "      <th>animation</th>\n",
       "      <th>children</th>\n",
       "      <th>comedy</th>\n",
       "      <th>crime</th>\n",
       "      <th>documentary</th>\n",
       "      <th>drama</th>\n",
       "      <th>fantasy</th>\n",
       "      <th>fi</th>\n",
       "      <th>...</th>\n",
       "      <th>listed</th>\n",
       "      <th>musical</th>\n",
       "      <th>mystery</th>\n",
       "      <th>no</th>\n",
       "      <th>noir</th>\n",
       "      <th>romance</th>\n",
       "      <th>sci</th>\n",
       "      <th>thriller</th>\n",
       "      <th>war</th>\n",
       "      <th>western</th>\n",
       "    </tr>\n",
       "  </thead>\n",
       "  <tbody>\n",
       "    <tr>\n",
       "      <th>0</th>\n",
       "      <td>0</td>\n",
       "      <td>1</td>\n",
       "      <td>1</td>\n",
       "      <td>1</td>\n",
       "      <td>1</td>\n",
       "      <td>0</td>\n",
       "      <td>0</td>\n",
       "      <td>0</td>\n",
       "      <td>1</td>\n",
       "      <td>0</td>\n",
       "      <td>...</td>\n",
       "      <td>0</td>\n",
       "      <td>0</td>\n",
       "      <td>0</td>\n",
       "      <td>0</td>\n",
       "      <td>0</td>\n",
       "      <td>0</td>\n",
       "      <td>0</td>\n",
       "      <td>0</td>\n",
       "      <td>0</td>\n",
       "      <td>0</td>\n",
       "    </tr>\n",
       "    <tr>\n",
       "      <th>1</th>\n",
       "      <td>0</td>\n",
       "      <td>1</td>\n",
       "      <td>1</td>\n",
       "      <td>1</td>\n",
       "      <td>1</td>\n",
       "      <td>0</td>\n",
       "      <td>0</td>\n",
       "      <td>0</td>\n",
       "      <td>1</td>\n",
       "      <td>0</td>\n",
       "      <td>...</td>\n",
       "      <td>0</td>\n",
       "      <td>0</td>\n",
       "      <td>0</td>\n",
       "      <td>0</td>\n",
       "      <td>0</td>\n",
       "      <td>0</td>\n",
       "      <td>0</td>\n",
       "      <td>0</td>\n",
       "      <td>0</td>\n",
       "      <td>0</td>\n",
       "    </tr>\n",
       "    <tr>\n",
       "      <th>2</th>\n",
       "      <td>0</td>\n",
       "      <td>1</td>\n",
       "      <td>1</td>\n",
       "      <td>1</td>\n",
       "      <td>1</td>\n",
       "      <td>0</td>\n",
       "      <td>0</td>\n",
       "      <td>0</td>\n",
       "      <td>1</td>\n",
       "      <td>0</td>\n",
       "      <td>...</td>\n",
       "      <td>0</td>\n",
       "      <td>0</td>\n",
       "      <td>0</td>\n",
       "      <td>0</td>\n",
       "      <td>0</td>\n",
       "      <td>0</td>\n",
       "      <td>0</td>\n",
       "      <td>0</td>\n",
       "      <td>0</td>\n",
       "      <td>0</td>\n",
       "    </tr>\n",
       "    <tr>\n",
       "      <th>3</th>\n",
       "      <td>0</td>\n",
       "      <td>1</td>\n",
       "      <td>1</td>\n",
       "      <td>1</td>\n",
       "      <td>1</td>\n",
       "      <td>0</td>\n",
       "      <td>0</td>\n",
       "      <td>0</td>\n",
       "      <td>1</td>\n",
       "      <td>0</td>\n",
       "      <td>...</td>\n",
       "      <td>0</td>\n",
       "      <td>0</td>\n",
       "      <td>0</td>\n",
       "      <td>0</td>\n",
       "      <td>0</td>\n",
       "      <td>0</td>\n",
       "      <td>0</td>\n",
       "      <td>0</td>\n",
       "      <td>0</td>\n",
       "      <td>0</td>\n",
       "    </tr>\n",
       "    <tr>\n",
       "      <th>4</th>\n",
       "      <td>0</td>\n",
       "      <td>1</td>\n",
       "      <td>1</td>\n",
       "      <td>1</td>\n",
       "      <td>1</td>\n",
       "      <td>0</td>\n",
       "      <td>0</td>\n",
       "      <td>0</td>\n",
       "      <td>1</td>\n",
       "      <td>0</td>\n",
       "      <td>...</td>\n",
       "      <td>0</td>\n",
       "      <td>0</td>\n",
       "      <td>0</td>\n",
       "      <td>0</td>\n",
       "      <td>0</td>\n",
       "      <td>0</td>\n",
       "      <td>0</td>\n",
       "      <td>0</td>\n",
       "      <td>0</td>\n",
       "      <td>0</td>\n",
       "    </tr>\n",
       "  </tbody>\n",
       "</table>\n",
       "<p>5 rows × 24 columns</p>\n",
       "</div>"
      ],
      "text/plain": [
       "   action  adventure  animation  children  comedy  crime  documentary  drama  \\\n",
       "0       0          1          1         1       1      0            0      0   \n",
       "1       0          1          1         1       1      0            0      0   \n",
       "2       0          1          1         1       1      0            0      0   \n",
       "3       0          1          1         1       1      0            0      0   \n",
       "4       0          1          1         1       1      0            0      0   \n",
       "\n",
       "   fantasy  fi  ...  listed  musical  mystery  no  noir  romance  sci  \\\n",
       "0        1   0  ...       0        0        0   0     0        0    0   \n",
       "1        1   0  ...       0        0        0   0     0        0    0   \n",
       "2        1   0  ...       0        0        0   0     0        0    0   \n",
       "3        1   0  ...       0        0        0   0     0        0    0   \n",
       "4        1   0  ...       0        0        0   0     0        0    0   \n",
       "\n",
       "   thriller  war  western  \n",
       "0         0    0        0  \n",
       "1         0    0        0  \n",
       "2         0    0        0  \n",
       "3         0    0        0  \n",
       "4         0    0        0  \n",
       "\n",
       "[5 rows x 24 columns]"
      ]
     },
     "execution_count": 4,
     "metadata": {},
     "output_type": "execute_result"
    }
   ],
   "source": [
    "# Create new dataframe using bag of words for the genres column\n",
    "from sklearn.feature_extraction.text import CountVectorizer\n",
    "v = CountVectorizer()\n",
    "x = v.fit_transform(df['genres'])\n",
    "x = pd.DataFrame.sparse.from_spmatrix(x, columns = v.get_feature_names())\n",
    "x.head()"
   ]
  },
  {
   "cell_type": "code",
   "execution_count": 5,
   "metadata": {
    "colab": {
     "base_uri": "https://localhost:8080/"
    },
    "executionInfo": {
     "elapsed": 5,
     "status": "ok",
     "timestamp": 1627548105168,
     "user": {
      "displayName": "Coders Arts",
      "photoUrl": "https://lh3.googleusercontent.com/a-/AOh14Gh045xFy05y2ydhIEpNIgs2LNUfWxg7n8AI2Tkamw=s64",
      "userId": "09210968749077988360"
     },
     "user_tz": -330
    },
    "id": "r70KEAvnWKbV",
    "outputId": "13b2ec80-3859-466c-eb12-a5262d78bf92"
   },
   "outputs": [],
   "source": [
    "#Add timestamp to the bag of words features - extract year and month of rating and tag and add as two separate variables\n",
    "features = x\n",
    "#Rating\n",
    "features['rating_year'] = pd.to_datetime(df['timestamp_x'], unit = 's').dt.year\n",
    "features['rating_month'] = pd.to_datetime(df['timestamp_x'], unit = 's').dt.month\n",
    "#Tag\n",
    "features['tag_year'] = pd.to_datetime(df['timestamp_y'], unit = 's').dt.year\n",
    "features['tag_month'] = pd.to_datetime(df['timestamp_y'], unit = 's').dt.month\n",
    "#Extract year the movie was released as another feature\n",
    "features['release_year'] = df['title'].str.extract('(\\d+)')\n",
    "#Check for missing values\n",
    "features.isna().sum()\n",
    "#Find out which movie has a missing year value\n",
    "df['release_year'] = df['title'].str.extract('(\\d+)')\n",
    "missing_vals = df[df.isnull().any(axis = 1)]\n",
    "missing_vals\n",
    "#Movie was released in 2016, so fill in missing values with 2016 in the features dataframe\n",
    "features = features.fillna(2016)\n",
    "features['release_year'] = features['release_year'].astype('int')"
   ]
  },
  {
   "cell_type": "code",
   "execution_count": 6,
   "metadata": {
    "id": "MATac_gTcVrr"
   },
   "outputs": [],
   "source": [
    "#Encode the tags feature and add to the dataframe\n",
    "from sklearn import preprocessing\n",
    "le = preprocessing.LabelEncoder()\n",
    "features['tags'] = le.fit_transform(df['tag'])"
   ]
  },
  {
   "cell_type": "code",
   "execution_count": 7,
   "metadata": {
    "colab": {
     "base_uri": "https://localhost:8080/"
    },
    "executionInfo": {
     "elapsed": 9,
     "status": "ok",
     "timestamp": 1627548111891,
     "user": {
      "displayName": "Coders Arts",
      "photoUrl": "https://lh3.googleusercontent.com/a-/AOh14Gh045xFy05y2ydhIEpNIgs2LNUfWxg7n8AI2Tkamw=s64",
      "userId": "09210968749077988360"
     },
     "user_tz": -330
    },
    "id": "7wnblHr6WnLa",
    "outputId": "8ea6699b-3691-4b99-e32c-3c3344574e7c"
   },
   "outputs": [
    {
     "data": {
      "text/html": [
       "<div>\n",
       "<style scoped>\n",
       "    .dataframe tbody tr th:only-of-type {\n",
       "        vertical-align: middle;\n",
       "    }\n",
       "\n",
       "    .dataframe tbody tr th {\n",
       "        vertical-align: top;\n",
       "    }\n",
       "\n",
       "    .dataframe thead th {\n",
       "        text-align: right;\n",
       "    }\n",
       "</style>\n",
       "<table border=\"1\" class=\"dataframe\">\n",
       "  <thead>\n",
       "    <tr style=\"text-align: right;\">\n",
       "      <th></th>\n",
       "      <th>action</th>\n",
       "      <th>adventure</th>\n",
       "      <th>animation</th>\n",
       "      <th>children</th>\n",
       "      <th>comedy</th>\n",
       "      <th>crime</th>\n",
       "      <th>documentary</th>\n",
       "      <th>drama</th>\n",
       "      <th>fantasy</th>\n",
       "      <th>fi</th>\n",
       "      <th>...</th>\n",
       "      <th>sci</th>\n",
       "      <th>thriller</th>\n",
       "      <th>war</th>\n",
       "      <th>western</th>\n",
       "      <th>rating_year</th>\n",
       "      <th>rating_month</th>\n",
       "      <th>tag_year</th>\n",
       "      <th>tag_month</th>\n",
       "      <th>release_year</th>\n",
       "      <th>tags</th>\n",
       "    </tr>\n",
       "  </thead>\n",
       "  <tbody>\n",
       "    <tr>\n",
       "      <th>0</th>\n",
       "      <td>0</td>\n",
       "      <td>1</td>\n",
       "      <td>1</td>\n",
       "      <td>1</td>\n",
       "      <td>1</td>\n",
       "      <td>0</td>\n",
       "      <td>0</td>\n",
       "      <td>0</td>\n",
       "      <td>1</td>\n",
       "      <td>0</td>\n",
       "      <td>...</td>\n",
       "      <td>0</td>\n",
       "      <td>0</td>\n",
       "      <td>0</td>\n",
       "      <td>0</td>\n",
       "      <td>2000</td>\n",
       "      <td>7</td>\n",
       "      <td>2006</td>\n",
       "      <td>2</td>\n",
       "      <td>1995</td>\n",
       "      <td>1239</td>\n",
       "    </tr>\n",
       "    <tr>\n",
       "      <th>1</th>\n",
       "      <td>0</td>\n",
       "      <td>1</td>\n",
       "      <td>1</td>\n",
       "      <td>1</td>\n",
       "      <td>1</td>\n",
       "      <td>0</td>\n",
       "      <td>0</td>\n",
       "      <td>0</td>\n",
       "      <td>1</td>\n",
       "      <td>0</td>\n",
       "      <td>...</td>\n",
       "      <td>0</td>\n",
       "      <td>0</td>\n",
       "      <td>0</td>\n",
       "      <td>0</td>\n",
       "      <td>2000</td>\n",
       "      <td>7</td>\n",
       "      <td>2006</td>\n",
       "      <td>1</td>\n",
       "      <td>1995</td>\n",
       "      <td>1239</td>\n",
       "    </tr>\n",
       "    <tr>\n",
       "      <th>2</th>\n",
       "      <td>0</td>\n",
       "      <td>1</td>\n",
       "      <td>1</td>\n",
       "      <td>1</td>\n",
       "      <td>1</td>\n",
       "      <td>0</td>\n",
       "      <td>0</td>\n",
       "      <td>0</td>\n",
       "      <td>1</td>\n",
       "      <td>0</td>\n",
       "      <td>...</td>\n",
       "      <td>0</td>\n",
       "      <td>0</td>\n",
       "      <td>0</td>\n",
       "      <td>0</td>\n",
       "      <td>2000</td>\n",
       "      <td>7</td>\n",
       "      <td>2018</td>\n",
       "      <td>5</td>\n",
       "      <td>1995</td>\n",
       "      <td>930</td>\n",
       "    </tr>\n",
       "    <tr>\n",
       "      <th>3</th>\n",
       "      <td>0</td>\n",
       "      <td>1</td>\n",
       "      <td>1</td>\n",
       "      <td>1</td>\n",
       "      <td>1</td>\n",
       "      <td>0</td>\n",
       "      <td>0</td>\n",
       "      <td>0</td>\n",
       "      <td>1</td>\n",
       "      <td>0</td>\n",
       "      <td>...</td>\n",
       "      <td>0</td>\n",
       "      <td>0</td>\n",
       "      <td>0</td>\n",
       "      <td>0</td>\n",
       "      <td>1996</td>\n",
       "      <td>11</td>\n",
       "      <td>2006</td>\n",
       "      <td>2</td>\n",
       "      <td>1995</td>\n",
       "      <td>1239</td>\n",
       "    </tr>\n",
       "    <tr>\n",
       "      <th>4</th>\n",
       "      <td>0</td>\n",
       "      <td>1</td>\n",
       "      <td>1</td>\n",
       "      <td>1</td>\n",
       "      <td>1</td>\n",
       "      <td>0</td>\n",
       "      <td>0</td>\n",
       "      <td>0</td>\n",
       "      <td>1</td>\n",
       "      <td>0</td>\n",
       "      <td>...</td>\n",
       "      <td>0</td>\n",
       "      <td>0</td>\n",
       "      <td>0</td>\n",
       "      <td>0</td>\n",
       "      <td>1996</td>\n",
       "      <td>11</td>\n",
       "      <td>2006</td>\n",
       "      <td>1</td>\n",
       "      <td>1995</td>\n",
       "      <td>1239</td>\n",
       "    </tr>\n",
       "  </tbody>\n",
       "</table>\n",
       "<p>5 rows × 30 columns</p>\n",
       "</div>"
      ],
      "text/plain": [
       "   action  adventure  animation  children  comedy  crime  documentary  drama  \\\n",
       "0       0          1          1         1       1      0            0      0   \n",
       "1       0          1          1         1       1      0            0      0   \n",
       "2       0          1          1         1       1      0            0      0   \n",
       "3       0          1          1         1       1      0            0      0   \n",
       "4       0          1          1         1       1      0            0      0   \n",
       "\n",
       "   fantasy  fi  ...  sci  thriller  war  western  rating_year  rating_month  \\\n",
       "0        1   0  ...    0         0    0        0         2000             7   \n",
       "1        1   0  ...    0         0    0        0         2000             7   \n",
       "2        1   0  ...    0         0    0        0         2000             7   \n",
       "3        1   0  ...    0         0    0        0         1996            11   \n",
       "4        1   0  ...    0         0    0        0         1996            11   \n",
       "\n",
       "   tag_year  tag_month  release_year  tags  \n",
       "0      2006          2          1995  1239  \n",
       "1      2006          1          1995  1239  \n",
       "2      2018          5          1995   930  \n",
       "3      2006          2          1995  1239  \n",
       "4      2006          1          1995  1239  \n",
       "\n",
       "[5 rows x 30 columns]"
      ]
     },
     "execution_count": 7,
     "metadata": {},
     "output_type": "execute_result"
    }
   ],
   "source": [
    "features.head()"
   ]
  },
  {
   "cell_type": "code",
   "execution_count": 106,
   "metadata": {},
   "outputs": [
    {
     "data": {
      "text/html": [
       "<div>\n",
       "<style scoped>\n",
       "    .dataframe tbody tr th:only-of-type {\n",
       "        vertical-align: middle;\n",
       "    }\n",
       "\n",
       "    .dataframe tbody tr th {\n",
       "        vertical-align: top;\n",
       "    }\n",
       "\n",
       "    .dataframe thead th {\n",
       "        text-align: right;\n",
       "    }\n",
       "</style>\n",
       "<table border=\"1\" class=\"dataframe\">\n",
       "  <thead>\n",
       "    <tr style=\"text-align: right;\">\n",
       "      <th></th>\n",
       "      <th>Count</th>\n",
       "    </tr>\n",
       "  </thead>\n",
       "  <tbody>\n",
       "    <tr>\n",
       "      <th>action</th>\n",
       "      <td>69549</td>\n",
       "    </tr>\n",
       "    <tr>\n",
       "      <th>adventure</th>\n",
       "      <td>47939</td>\n",
       "    </tr>\n",
       "    <tr>\n",
       "      <th>animation</th>\n",
       "      <td>10466</td>\n",
       "    </tr>\n",
       "    <tr>\n",
       "      <th>children</th>\n",
       "      <td>11595</td>\n",
       "    </tr>\n",
       "    <tr>\n",
       "      <th>comedy</th>\n",
       "      <td>96901</td>\n",
       "    </tr>\n",
       "    <tr>\n",
       "      <th>crime</th>\n",
       "      <td>103102</td>\n",
       "    </tr>\n",
       "    <tr>\n",
       "      <th>documentary</th>\n",
       "      <td>711</td>\n",
       "    </tr>\n",
       "    <tr>\n",
       "      <th>drama</th>\n",
       "      <td>148389</td>\n",
       "    </tr>\n",
       "    <tr>\n",
       "      <th>fantasy</th>\n",
       "      <td>16220</td>\n",
       "    </tr>\n",
       "    <tr>\n",
       "      <th>scifi</th>\n",
       "      <td>51977</td>\n",
       "    </tr>\n",
       "    <tr>\n",
       "      <th>film</th>\n",
       "      <td>783</td>\n",
       "    </tr>\n",
       "    <tr>\n",
       "      <th>genres</th>\n",
       "      <td>3</td>\n",
       "    </tr>\n",
       "    <tr>\n",
       "      <th>horror</th>\n",
       "      <td>10199</td>\n",
       "    </tr>\n",
       "    <tr>\n",
       "      <th>imax</th>\n",
       "      <td>12263</td>\n",
       "    </tr>\n",
       "    <tr>\n",
       "      <th>listed</th>\n",
       "      <td>3</td>\n",
       "    </tr>\n",
       "    <tr>\n",
       "      <th>musical</th>\n",
       "      <td>4496</td>\n",
       "    </tr>\n",
       "    <tr>\n",
       "      <th>mystery</th>\n",
       "      <td>24352</td>\n",
       "    </tr>\n",
       "    <tr>\n",
       "      <th>no</th>\n",
       "      <td>3</td>\n",
       "    </tr>\n",
       "    <tr>\n",
       "      <th>noir</th>\n",
       "      <td>783</td>\n",
       "    </tr>\n",
       "    <tr>\n",
       "      <th>romance</th>\n",
       "      <td>25344</td>\n",
       "    </tr>\n",
       "    <tr>\n",
       "      <th>thriller</th>\n",
       "      <td>116891</td>\n",
       "    </tr>\n",
       "    <tr>\n",
       "      <th>war</th>\n",
       "      <td>11737</td>\n",
       "    </tr>\n",
       "    <tr>\n",
       "      <th>western</th>\n",
       "      <td>2354</td>\n",
       "    </tr>\n",
       "  </tbody>\n",
       "</table>\n",
       "</div>"
      ],
      "text/plain": [
       "              Count\n",
       "action        69549\n",
       "adventure     47939\n",
       "animation     10466\n",
       "children      11595\n",
       "comedy        96901\n",
       "crime        103102\n",
       "documentary     711\n",
       "drama        148389\n",
       "fantasy       16220\n",
       "scifi         51977\n",
       "film            783\n",
       "genres            3\n",
       "horror        10199\n",
       "imax          12263\n",
       "listed            3\n",
       "musical        4496\n",
       "mystery       24352\n",
       "no                3\n",
       "noir            783\n",
       "romance       25344\n",
       "thriller     116891\n",
       "war           11737\n",
       "western        2354"
      ]
     },
     "execution_count": 106,
     "metadata": {},
     "output_type": "execute_result"
    }
   ],
   "source": [
    "features.rename(columns = {'fi':'scifi'}, inplace = True)\n",
    "#features = features.drop('sci', axis = 1)\n",
    "#Plot count of each genre - which genre is most frequently seen?\n",
    "genre_sums = pd.DataFrame(features.iloc[:,0:23].sum(axis = 0), columns = ['Count'])\n",
    "genre_sums"
   ]
  },
  {
   "cell_type": "code",
   "execution_count": 109,
   "metadata": {},
   "outputs": [
    {
     "data": {
      "text/plain": [
       "<AxesSubplot:xlabel='release_year', ylabel='Count'>"
      ]
     },
     "execution_count": 109,
     "metadata": {},
     "output_type": "execute_result"
    },
    {
     "data": {
      "image/png": "[encoded data removed]",
      "text/plain": [
       "<Figure size 432x288 with 1 Axes>"
      ]
     },
     "metadata": {
      "needs_background": "light"
     },
     "output_type": "display_data"
    }
   ],
   "source": [
    "#Plot most common release year\n",
    "import seaborn as sns\n",
    "year_plot = sns.histplot(features['release_year'])\n",
    "year_plot.set(xlim=(1950, 2020))\n",
    "year_plot"
   ]
  },
  {
   "cell_type": "code",
   "execution_count": 8,
   "metadata": {
    "id": "yCUt1ucrZ1kV"
   },
   "outputs": [],
   "source": [
    "y = df['rating'].astype('int')"
   ]
  },
  {
   "cell_type": "code",
   "execution_count": 9,
   "metadata": {},
   "outputs": [
    {
     "data": {
      "text/plain": [
       "<AxesSubplot:xlabel='rating', ylabel='Count'>"
      ]
     },
     "execution_count": 9,
     "metadata": {},
     "output_type": "execute_result"
    },
    {
     "data": {
      "image/png": "[encoded data removed]",
      "text/plain": [
       "<Figure size 432x288 with 1 Axes>"
      ]
     },
     "metadata": {
      "needs_background": "light"
     },
     "output_type": "display_data"
    }
   ],
   "source": [
    "import seaborn as sns\n",
    "sns.histplot(y)"
   ]
  },
  {
   "cell_type": "code",
   "execution_count": 20,
   "metadata": {
    "id": "jgJTa2ApgxSV"
   },
   "outputs": [
    {
     "data": {
      "text/plain": [
       "0.3378841462717353"
      ]
     },
     "execution_count": 20,
     "metadata": {},
     "output_type": "execute_result"
    }
   ],
   "source": [
    "from sklearn.linear_model import Perceptron\n",
    "from sklearn.model_selection import cross_val_score\n",
    "#Round the ratings up to the nearest whole digit\n",
    "y_class = [int(round(x)) for x in y]\n",
    "\n",
    "clf = Perceptron(tol=1e-3, random_state=0)\n",
    "scores = cross_val_score(clf, features, y_class, cv = 5)\n",
    "scores.mean()"
   ]
  },
  {
   "cell_type": "code",
   "execution_count": 21,
   "metadata": {},
   "outputs": [
    {
     "data": {
      "text/plain": [
       "0.1880461898499629"
      ]
     },
     "execution_count": 21,
     "metadata": {},
     "output_type": "execute_result"
    }
   ],
   "source": [
    "from sklearn.tree import DecisionTreeClassifier\n",
    "\n",
    "#Fit decision tree classifier\n",
    "clf = DecisionTreeClassifier(random_state = 0)\n",
    "scores = cross_val_score(clf, features, y_class, cv = 5)\n",
    "scores.mean()"
   ]
  },
  {
   "cell_type": "code",
   "execution_count": 23,
   "metadata": {},
   "outputs": [],
   "source": [
    "import numpy as np\n",
    "import matplotlib.pyplot as plt\n",
    "from mlxtend.plotting import plot_decision_regions\n",
    "from sklearn.model_selection import train_test_split\n",
    "from sklearn.metrics import classification_report, plot_confusion_matrix, accuracy_score"
   ]
  },
  {
   "cell_type": "markdown",
   "metadata": {},
   "source": [
    "Classification report"
   ]
  },
  {
   "cell_type": "code",
   "execution_count": null,
   "metadata": {},
   "outputs": [],
   "source": []
  },
  {
   "cell_type": "code",
   "execution_count": null,
   "metadata": {},
   "outputs": [],
   "source": [
    "rng = np.random.RandomState(0)\n",
    "X = rng.randn(233213, 1000 )\n",
    "y = np.logical_xor(X[:, 0] > 0, X[:, 1] > 0)\n",
    "\n",
    "xtr,xts,ytr,yts = t(x,y, test_size = 0.3)\n",
    "clf = Perceptron()\n",
    "clf.fit(xtr, ytr)\n",
    "preds = clf.predict(xts)\n",
    "metrics.accuracy_score(yts, preds)"
   ]
  },
  {
   "cell_type": "code",
   "execution_count": null,
   "metadata": {},
   "outputs": [],
   "source": [
    "\n",
    "xtr,xts,ytr,yts = t(x,y, test_size = 0.3)\n",
    "clf = Perceptron()\n",
    "clf.fit(xtr, ytr)\n",
    "preds = clf.predict(xts)\n",
    "metrics.accuracy_score(yts, preds)"
   ]
  },
  {
   "cell_type": "code",
   "execution_count": 53,
   "metadata": {},
   "outputs": [
    {
     "name": "stdout",
     "output_type": "stream",
     "text": [
      "Iteration 1, loss = 1.36822172\n",
      "Iteration 2, loss = 1.36297391\n",
      "Iteration 3, loss = 1.36228281\n",
      "Iteration 4, loss = 1.36261905\n",
      "Iteration 5, loss = 1.36328780\n",
      "Iteration 6, loss = 1.36427294\n",
      "Iteration 7, loss = 1.36349889\n",
      "Iteration 8, loss = 1.36772790\n",
      "Iteration 9, loss = 1.36309166\n",
      "Iteration 10, loss = 1.36281652\n",
      "Iteration 11, loss = 1.36598779\n",
      "Iteration 12, loss = 1.37159431\n",
      "Iteration 13, loss = 1.36701470\n",
      "Iteration 14, loss = 1.37016083\n",
      "Training loss did not improve more than tol=0.000100 for 10 consecutive epochs. Stopping.\n"
     ]
    },
    {
     "data": {
      "text/plain": [
       "0.41244969341312965"
      ]
     },
     "execution_count": 53,
     "metadata": {},
     "output_type": "execute_result"
    }
   ],
   "source": [
    "clf = MLPClassifier(hidden_layer_sizes=(10,), max_iter=100, alpha=1e-4,solver='adam', activation='logistic',verbose=10, \n",
    "                    random_state=1,learning_rate_init=.1)\n",
    "clf.fit(xtr, ytr)\n",
    "clf.score(xtr, ytr)"
   ]
  },
  {
   "cell_type": "code",
   "execution_count": 47,
   "metadata": {},
   "outputs": [
    {
     "name": "stdout",
     "output_type": "stream",
     "text": [
      "Accuracy: 0.41379852495569147\n"
     ]
    }
   ],
   "source": [
    "y_pred = clf.predict(xts)\n",
    "acc = accuracy_score(yts, y_pred)\n",
    "print('Accuracy:', acc)"
   ]
  },
  {
   "cell_type": "code",
   "execution_count": 48,
   "metadata": {},
   "outputs": [],
   "source": [
    "def plot_performance(list_, x_label,x_axis):\n",
    "    \n",
    "    accuracies = []\n",
    "    for i in list_:\n",
    "        clf = i\n",
    "        clf.fit(xtr, ytr)\n",
    "        y_pred = clf.predict(xts)\n",
    "        acc= accuracy_score(yts, y_pred)\n",
    "        accuracies.append(acc)\n",
    "    plt.plot(x_label, accuracies,marker='o')\n",
    "    plt.xlabel(x_axis)\n",
    "    plt.ylabel('Accuracy')\n",
    "        \n",
    "    ind = np.argmax(accuracies)\n",
    "    print('best parameter: ',x_label[ind],'with accuracy: ',np.max(accuracies))"
   ]
  },
  {
   "cell_type": "code",
   "execution_count": 49,
   "metadata": {},
   "outputs": [
    {
     "name": "stdout",
     "output_type": "stream",
     "text": [
      "best parameter:  sgd with accuracy:  0.41379852495569147\n"
     ]
    },
    {
     "data": {
      "image/png": "[encoded data removed]",
      "text/plain": [
       "<Figure size 432x288 with 1 Axes>"
      ]
     },
     "metadata": {
      "needs_background": "light"
     },
     "output_type": "display_data"
    }
   ],
   "source": [
    "solvers = [MLPClassifier(hidden_layer_sizes=(10,), max_iter=100, alpha=1e-4,solver='sgd', activation='logistic',verbose=False, random_state=1,learning_rate_init=.1),\n",
    "MLPClassifier(hidden_layer_sizes=(10,), max_iter=100, alpha=1e-4,solver='adam', activation='logistic',verbose=False, random_state=1,learning_rate_init=.1),\n",
    "MLPClassifier(hidden_layer_sizes=(10,), max_iter=100, alpha=1e-4,solver='lbfgs', activation='logistic',verbose=False, random_state=1,learning_rate_init=.1)]\n",
    "\n",
    "solver =['sgd','adam','lbfgs']\n",
    "\n",
    "plot_performance(solvers, solver, 'solvers')"
   ]
  },
  {
   "cell_type": "code",
   "execution_count": 59,
   "metadata": {},
   "outputs": [
    {
     "name": "stdout",
     "output_type": "stream",
     "text": [
      "best parameter:  1 with accuracy:  0.41379852495569147\n"
     ]
    },
    {
     "data": {
      "image/png": "[encoded data removed]",
      "text/plain": [
       "<Figure size 432x288 with 1 Axes>"
      ]
     },
     "metadata": {
      "needs_background": "light"
     },
     "output_type": "display_data"
    }
   ],
   "source": [
    "HU  = [MLPClassifier(hidden_layer_sizes=(1,), max_iter=100, alpha=1e-4,solver='lbfgs', activation='logistic',verbose=False, random_state=1,learning_rate_init=.1),\n",
    "MLPClassifier(hidden_layer_sizes=(5,), max_iter=100, alpha=1e-4,solver='lbfgs', activation='logistic',verbose=False, random_state=1,learning_rate_init=.1),\n",
    "MLPClassifier(hidden_layer_sizes=(10,), max_iter=100, alpha=1e-4,solver='lbfgs', activation='logistic',verbose=False, random_state=1,learning_rate_init=.1),\n",
    "MLPClassifier(hidden_layer_sizes=(20,), max_iter=100, alpha=1e-4,solver='lbfgs', activation='logistic',verbose=False, random_state=1,learning_rate_init=.1)]\n",
    "\n",
    "hidden_units = [1,5,10,20]\n",
    "\n",
    "plot_performance(HU, hidden_units, 'hidden units')"
   ]
  },
  {
   "cell_type": "code",
   "execution_count": 51,
   "metadata": {},
   "outputs": [
    {
     "name": "stdout",
     "output_type": "stream",
     "text": [
      "best parameter:  logistic with accuracy:  0.41379852495569147\n"
     ]
    },
    {
     "data": {
      "image/png": "[encoded data removed]",
      "text/plain": [
       "<Figure size 432x288 with 1 Axes>"
      ]
     },
     "metadata": {
      "needs_background": "light"
     },
     "output_type": "display_data"
    }
   ],
   "source": [
    "activations= [MLPClassifier(hidden_layer_sizes=(20,), max_iter=100, alpha=1e-4,solver='lbfgs', activation='relu',verbose=False, random_state=1,learning_rate_init=.1),\n",
    "MLPClassifier(hidden_layer_sizes=(20,), max_iter=100, alpha=1e-4,solver='lbfgs', activation='logistic',verbose=False, random_state=1,learning_rate_init=.1)]\n",
    "\n",
    "activation = ['relu','logistic']\n",
    "\n",
    "plot_performance(activations, activation,'activations')"
   ]
  },
  {
   "cell_type": "code",
   "execution_count": 56,
   "metadata": {},
   "outputs": [],
   "source": [
    "param_accu = []\n",
    "\n",
    "for i in solver:\n",
    "    for j in hidden_units:\n",
    "        for k in activation:\n",
    "            clf = MLPClassifier(hidden_layer_sizes=(j,), max_iter=100, alpha=1e-4,solver=i, activation=k,verbose=False, random_state=1,learning_rate_init=.1)\n",
    "            clf.fit(xtr, ytr)\n",
    "            y_pred = clf.predict(xts)\n",
    "            acc = accuracy_score(yts, y_pred)\n",
    "            \n",
    "            param_accu.append((i,j,k,acc))"
   ]
  },
  {
   "cell_type": "code",
   "execution_count": 57,
   "metadata": {},
   "outputs": [
    {
     "data": {
      "text/plain": [
       "24"
      ]
     },
     "execution_count": 57,
     "metadata": {},
     "output_type": "execute_result"
    }
   ],
   "source": [
    "len(param_accu)"
   ]
  },
  {
   "cell_type": "code",
   "execution_count": 58,
   "metadata": {
    "scrolled": true
   },
   "outputs": [
    {
     "data": {
      "text/plain": [
       "[('sgd', 10, 'relu', 0.41379852495569147),\n",
       " ('sgd', 10, 'logistic', 0.41379852495569147),\n",
       " ('sgd', 50, 'relu', 0.41379852495569147),\n",
       " ('sgd', 50, 'logistic', 0.41379852495569147),\n",
       " ('sgd', 100, 'relu', 0.41379852495569147),\n",
       " ('sgd', 100, 'logistic', 0.2196129437996684),\n",
       " ('sgd', 200, 'relu', 0.41379852495569147),\n",
       " ('sgd', 200, 'logistic', 0.41379852495569147),\n",
       " ('adam', 10, 'relu', 0.41379852495569147),\n",
       " ('adam', 10, 'logistic', 0.41379852495569147),\n",
       " ('adam', 50, 'relu', 0.41379852495569147),\n",
       " ('adam', 50, 'logistic', 0.41379852495569147),\n",
       " ('adam', 100, 'relu', 0.41379852495569147),\n",
       " ('adam', 100, 'logistic', 0.41379852495569147),\n",
       " ('adam', 200, 'relu', 0.41379852495569147),\n",
       " ('adam', 200, 'logistic', 0.2743267966382711),\n",
       " ('lbfgs', 10, 'relu', 0.41379852495569147),\n",
       " ('lbfgs', 10, 'logistic', 0.41379852495569147),\n",
       " ('lbfgs', 50, 'relu', 0.41379852495569147),\n",
       " ('lbfgs', 50, 'logistic', 0.41379852495569147),\n",
       " ('lbfgs', 100, 'relu', 0.41379852495569147),\n",
       " ('lbfgs', 100, 'logistic', 0.41379852495569147),\n",
       " ('lbfgs', 200, 'relu', 0.41379852495569147),\n",
       " ('lbfgs', 200, 'logistic', 0.41379852495569147)]"
      ]
     },
     "execution_count": 58,
     "metadata": {},
     "output_type": "execute_result"
    }
   ],
   "source": [
    "param_accu"
   ]
  },
  {
   "cell_type": "code",
   "execution_count": 62,
   "metadata": {},
   "outputs": [
    {
     "name": "stdout",
     "output_type": "stream",
     "text": [
      "Confusion matrix:\n"
     ]
    },
    {
     "data": {
      "image/png": "[encoded data removed]",
      "text/plain": [
       "<Figure size 432x288 with 2 Axes>"
      ]
     },
     "metadata": {
      "needs_background": "light"
     },
     "output_type": "display_data"
    }
   ],
   "source": [
    "#Plot the confusion matrix for the best model\n",
    "best_nnet = MLPClassifier(hidden_layer_sizes=(10,), max_iter=100, alpha=1e-4,\n",
    "                          solver='lbfgs', activation='logistic',verbose=False, \n",
    "                          random_state=1,learning_rate_init=.1)\n",
    "best_nnet.fit(xtr, ytr)\n",
    "y_pred = clf.predict(xts)\n",
    "print('Confusion matrix:')\n",
    "plot_confusion_matrix(best_nnet, xts, yts)\n",
    "plt.show()"
   ]
  },
  {
   "cell_type": "code",
   "execution_count": null,
   "metadata": {},
   "outputs": [],
   "source": [
    "print(classification_report(yts, y_pred))"
   ]
  },
  {
   "cell_type": "code",
   "execution_count": 64,
   "metadata": {},
   "outputs": [
    {
     "name": "stdout",
     "output_type": "stream",
     "text": [
      "Accuracy: 0.5433508661597393\n"
     ]
    }
   ],
   "source": [
    "from sklearn.ensemble import RandomForestClassifier\n",
    "import matplotlib.pyplot as plt\n",
    "from sklearn import ensemble\n",
    "import numpy as np\n",
    "\n",
    "clf = RandomForestClassifier(criterion = 'entropy')\n",
    "clf.fit(xtr, ytr)\n",
    "y_pred = clf.predict(xts)\n",
    "acc = accuracy_score(yts, y_pred)\n",
    "print('Accuracy:', acc)"
   ]
  },
  {
   "cell_type": "code",
   "execution_count": 63,
   "metadata": {},
   "outputs": [
    {
     "name": "stdout",
     "output_type": "stream",
     "text": [
      "Confusion matrix:\n"
     ]
    },
    {
     "data": {
      "image/png": "[encoded data removed]",
      "text/plain": [
       "<Figure size 432x288 with 2 Axes>"
      ]
     },
     "metadata": {
      "needs_background": "light"
     },
     "output_type": "display_data"
    }
   ],
   "source": [
    "print('Confusion matrix:')\n",
    "plot_confusion_matrix(clf, xts, yts)\n",
    "plt.show()"
   ]
  },
  {
   "cell_type": "code",
   "execution_count": null,
   "metadata": {},
   "outputs": [],
   "source": [
    "print(classification_report(yts, y_pred))"
   ]
  }
 ],
 "metadata": {
  "colab": {
   "collapsed_sections": [],
   "name": "Copy of solution.ipynb",
   "provenance": [
    {
     "file_id": "1Tg0sFlRiy0cY2owUau-POO27McgZryRq",
     "timestamp": 1627575263711
    }
   ]
  },
  "kernelspec": {
   "display_name": "Python 3",
   "language": "python",
   "name": "python3"
  },
  "language_info": {
   "codemirror_mode": {
    "name": "ipython",
    "version": 3
   },
   "file_extension": ".py",
   "mimetype": "text/x-python",
   "name": "python",
   "nbconvert_exporter": "python",
   "pygments_lexer": "ipython3",
   "version": "3.8.11"
  }
 },
 "nbformat": 4,
 "nbformat_minor": 1
}
